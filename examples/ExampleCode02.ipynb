{
 "cells": [
  {
   "cell_type": "code",
   "execution_count": 1,
   "metadata": {},
   "outputs": [],
   "source": [
    "from tools import *"
   ]
  },
  {
   "cell_type": "code",
   "execution_count": 2,
   "metadata": {},
   "outputs": [],
   "source": [
    "# Define symbols to use\n",
    "k, N = sp.symbols('k_b, N')\n",
    "mrna_nuclear_export_rate, \\\n",
    "    nuclear_mrna_degradation_rate, \\\n",
    "    citoplasmic_mrna_degradation_rate = sp.symbols('k_e, mu_n, mu_m')\n",
    "protein_production_rate, protein_degradation_rate = sp.symbols('k_p, mu_p')"
   ]
  },
  {
   "cell_type": "code",
   "execution_count": 3,
   "metadata": {},
   "outputs": [],
   "source": [
    "# define the reduced model states\n",
    "zero = (1, 0, 0)\n",
    "nucl = (0, 1, 0)\n",
    "cito = (0, 0, 1)\n",
    "\n",
    "# reduced model transition rates between mRNA states\n",
    "model_transition_rates = {\n",
    "    (zero, nucl): k/N,\n",
    "    (nucl, zero): nuclear_mrna_degradation_rate,\n",
    "    (nucl, cito): mrna_nuclear_export_rate,\n",
    "    (cito, zero): citoplasmic_mrna_degradation_rate\n",
    "}\n",
    "\n",
    "model_protein_production_rates = [\n",
    "    0, # zero state always has zero production rate\n",
    "    0, # nuclear mRNA, no protein production\n",
    "    protein_production_rate  # cytoplasm mRNA, produces proteins\n",
    "]\n",
    "\n",
    "model_protein_degradation_rate = protein_degradation_rate"
   ]
  },
  {
   "cell_type": "code",
   "execution_count": 4,
   "metadata": {},
   "outputs": [
    {
     "name": "stdout",
     "output_type": "stream",
     "text": [
      "\n",
      "\n",
      "\n",
      "Working on Burst Size = 1\n",
      "\n",
      "[0 0 1] --> [1 0 0]\tdelta = [ 1  0 -1]\tmu_m\n",
      "[0 1 0] --> [0 0 1]\tdelta = [ 0 -1  1]\tk_e\n",
      "[0 1 0] --> [1 0 0]\tdelta = [ 1 -1  0]\tmu_n\n",
      "[1 0 0] --> [0 1 0]\tdelta = [-1  1  0]\tk_b/N\t(arrival)\n",
      "\n",
      "\n",
      "\n",
      "The transition Matrix K\n",
      "\n"
     ]
    },
    {
     "data": {
      "text/latex": [
       "$\\displaystyle \\left[\\begin{matrix}- \\frac{k_{b}}{N} & \\mu_{n} & \\mu_{m}\\\\\\frac{k_{b}}{N} & - k_{e} - \\mu_{n} & 0\\\\0 & k_{e} & - \\mu_{m}\\end{matrix}\\right]$"
      ],
      "text/plain": [
       "<IPython.core.display.Math object>"
      ]
     },
     "metadata": {},
     "output_type": "display_data"
    },
    {
     "name": "stdout",
     "output_type": "stream",
     "text": [
      "\n",
      "\n",
      "\n",
      "The protein production rates\n",
      "\n"
     ]
    },
    {
     "data": {
      "text/latex": [
       "$\\displaystyle \\left[\\begin{matrix}0 & 0 & k_{p}\\end{matrix}\\right]$"
      ],
      "text/plain": [
       "<IPython.core.display.Math object>"
      ]
     },
     "metadata": {},
     "output_type": "display_data"
    },
    {
     "name": "stdout",
     "output_type": "stream",
     "text": [
      "\n",
      "\n",
      "\n",
      "The protein mean\n",
      "\n"
     ]
    },
    {
     "data": {
      "text/latex": [
       "$\\displaystyle \\frac{k_{b} k_{e} k_{p}}{\\mu_{m} \\mu_{p} \\left(k_{e} + \\mu_{n}\\right)}$"
      ],
      "text/plain": [
       "<IPython.core.display.Math object>"
      ]
     },
     "metadata": {},
     "output_type": "display_data"
    },
    {
     "name": "stdout",
     "output_type": "stream",
     "text": [
      "\n",
      "\n",
      "\n",
      "The protein fano factor\n",
      "\n"
     ]
    },
    {
     "data": {
      "text/latex": [
       "$\\displaystyle \\frac{k_{p}}{\\mu_{m} + \\mu_{p}} + 1$"
      ],
      "text/plain": [
       "<IPython.core.display.Math object>"
      ]
     },
     "metadata": {},
     "output_type": "display_data"
    },
    {
     "name": "stdout",
     "output_type": "stream",
     "text": [
      "\n",
      "\n",
      "\n",
      "Working on Burst Size = 2\n",
      "\n",
      "[0 0 2] --> [1 0 1]\tdelta = [ 1  0 -1]\t2*mu_m\n",
      "[0 1 1] --> [0 0 2]\tdelta = [ 0 -1  1]\tk_e\n",
      "[0 1 1] --> [1 0 1]\tdelta = [ 1 -1  0]\tmu_n\n",
      "[0 1 1] --> [1 1 0]\tdelta = [ 1  0 -1]\tmu_m\n",
      "[0 2 0] --> [0 1 1]\tdelta = [ 0 -1  1]\t2*k_e\n",
      "[0 2 0] --> [1 1 0]\tdelta = [ 1 -1  0]\t2*mu_n\n",
      "[1 0 1] --> [2 0 0]\tdelta = [ 1  0 -1]\tmu_m\n",
      "[1 1 0] --> [1 0 1]\tdelta = [ 0 -1  1]\tk_e\n",
      "[1 1 0] --> [2 0 0]\tdelta = [ 1 -1  0]\tmu_n\n",
      "[2 0 0] --> [0 2 0]\tdelta = [-2  2  0]\tk_b/N\t(arrival)\n",
      "\n",
      "\n",
      "\n",
      "The transition Matrix K\n",
      "\n"
     ]
    },
    {
     "data": {
      "text/latex": [
       "$\\displaystyle \\left[\\begin{matrix}- \\frac{k_{b}}{N} & \\mu_{n} & \\mu_{m} & 0 & 0 & 0\\\\0 & - k_{e} - \\mu_{n} & 0 & 2 \\mu_{n} & \\mu_{m} & 0\\\\0 & k_{e} & - \\mu_{m} & 0 & \\mu_{n} & 2 \\mu_{m}\\\\\\frac{k_{b}}{N} & 0 & 0 & - 2 k_{e} - 2 \\mu_{n} & 0 & 0\\\\0 & 0 & 0 & 2 k_{e} & - k_{e} - \\mu_{m} - \\mu_{n} & 0\\\\0 & 0 & 0 & 0 & k_{e} & - 2 \\mu_{m}\\end{matrix}\\right]$"
      ],
      "text/plain": [
       "<IPython.core.display.Math object>"
      ]
     },
     "metadata": {},
     "output_type": "display_data"
    },
    {
     "name": "stdout",
     "output_type": "stream",
     "text": [
      "\n",
      "\n",
      "\n",
      "The protein production rates\n",
      "\n"
     ]
    },
    {
     "data": {
      "text/latex": [
       "$\\displaystyle \\left[\\begin{matrix}0 & 0 & k_{p} & 0 & k_{p} & 2 k_{p}\\end{matrix}\\right]$"
      ],
      "text/plain": [
       "<IPython.core.display.Math object>"
      ]
     },
     "metadata": {},
     "output_type": "display_data"
    },
    {
     "name": "stdout",
     "output_type": "stream",
     "text": [
      "\n",
      "\n",
      "\n",
      "The protein mean\n",
      "\n"
     ]
    },
    {
     "data": {
      "text/latex": [
       "$\\displaystyle \\frac{2 k_{b} k_{e} k_{p}}{\\mu_{m} \\mu_{p} \\left(k_{e} + \\mu_{n}\\right)}$"
      ],
      "text/plain": [
       "<IPython.core.display.Math object>"
      ]
     },
     "metadata": {},
     "output_type": "display_data"
    },
    {
     "name": "stdout",
     "output_type": "stream",
     "text": [
      "\n",
      "\n",
      "\n",
      "The protein fano factor\n",
      "\n"
     ]
    },
    {
     "data": {
      "text/latex": [
       "$\\displaystyle \\frac{k_{p} \\left(3 k_{e}^{2} + 3 k_{e} \\mu_{m} + 5 k_{e} \\mu_{n} + 3 k_{e} \\mu_{p} + 2 \\mu_{m} \\mu_{n} + 2 \\mu_{m} \\mu_{p} + 2 \\mu_{n}^{2} + 2 \\mu_{n} \\mu_{p}\\right)}{2 \\left(\\mu_{m} + \\mu_{p}\\right) \\left(k_{e} + \\mu_{m} + \\mu_{n}\\right) \\left(k_{e} + \\mu_{n} + \\mu_{p}\\right)} + 1$"
      ],
      "text/plain": [
       "<IPython.core.display.Math object>"
      ]
     },
     "metadata": {},
     "output_type": "display_data"
    },
    {
     "name": "stdout",
     "output_type": "stream",
     "text": [
      "\n",
      "\n",
      "\n",
      "The protein fano factor for burst size 1\n",
      "\n"
     ]
    },
    {
     "data": {
      "text/latex": [
       "$\\displaystyle FF_{1} = \\frac{k_{p}}{\\mu_{m} + \\mu_{p}} + 1$"
      ],
      "text/plain": [
       "<IPython.core.display.Math object>"
      ]
     },
     "metadata": {},
     "output_type": "display_data"
    },
    {
     "name": "stdout",
     "output_type": "stream",
     "text": [
      "\n",
      "\n",
      "\n",
      "The protein fano factor for burst size 2\n",
      "\n"
     ]
    },
    {
     "data": {
      "text/latex": [
       "$\\displaystyle FF_{2} = \\frac{k_{e} k_{p} \\left(k_{e} + \\mu_{m} + \\mu_{n} + \\mu_{p}\\right)}{2 \\left(\\mu_{m} + \\mu_{p}\\right) \\left(k_{e} + \\mu_{m} + \\mu_{n}\\right) \\left(k_{e} + \\mu_{n} + \\mu_{p}\\right)} + \\frac{k_{p}}{\\mu_{m} + \\mu_{p}} + 1$"
      ],
      "text/plain": [
       "<IPython.core.display.Math object>"
      ]
     },
     "metadata": {},
     "output_type": "display_data"
    },
    {
     "name": "stdout",
     "output_type": "stream",
     "text": [
      "\n",
      "\n",
      "\n",
      "The protein fano factor for bursty mRNA arrivals\n",
      "with Gb the generating function for the burst distribution\n",
      "\n"
     ]
    },
    {
     "data": {
      "text/latex": [
       "$\\displaystyle FF = \\frac{k_{p} \\left(\\frac{G''_{b} k_{e} \\left(k_{e} + \\mu_{m} + \\mu_{n} + \\mu_{p}\\right)}{2 G'_{b} \\left(k_{e} + \\mu_{m} + \\mu_{n}\\right) \\left(k_{e} + \\mu_{n} + \\mu_{p}\\right)} + 1\\right)}{\\mu_{m} + \\mu_{p}} + 1$"
      ],
      "text/plain": [
       "<IPython.core.display.Math object>"
      ]
     },
     "metadata": {},
     "output_type": "display_data"
    }
   ],
   "source": [
    "mean, fano = compute_steady_state_moments(model_transition_rates, model_protein_production_rates, model_protein_degradation_rate)"
   ]
  },
  {
   "cell_type": "code",
   "execution_count": 5,
   "metadata": {},
   "outputs": [
    {
     "name": "stdout",
     "output_type": "stream",
     "text": [
      "\n",
      "Working on Burst Size = 1\n",
      "\n",
      "[0 0 1] --> [1 0 0]\tdelta = [ 1  0 -1]\tmu_m\n",
      "[0 1 0] --> [0 0 1]\tdelta = [ 0 -1  1]\tk_e\n",
      "[0 1 0] --> [1 0 0]\tdelta = [ 1 -1  0]\tmu_n\n",
      "[1 0 0] --> [0 1 0]\tdelta = [-1  1  0]\tk_b/N\t(arrival)\n",
      "\n",
      "\n",
      "\n",
      "The transition Matrix K\n",
      "\n"
     ]
    },
    {
     "data": {
      "text/latex": [
       "$\\displaystyle \\left[\\begin{matrix}- \\frac{k_{b}}{N} & \\mu_{n} & \\mu_{m}\\\\\\frac{k_{b}}{N} & - k_{e} - \\mu_{n} & 0\\\\0 & k_{e} & - \\mu_{m}\\end{matrix}\\right]$"
      ],
      "text/plain": [
       "<IPython.core.display.Math object>"
      ]
     },
     "metadata": {},
     "output_type": "display_data"
    }
   ],
   "source": [
    "K, G, R, _, _ = compute_matrices(model_transition_rates, model_protein_production_rates, model_protein_degradation_rate, max_burst_size=1)"
   ]
  },
  {
   "cell_type": "code",
   "execution_count": 6,
   "metadata": {},
   "outputs": [
    {
     "data": {
      "text/latex": [
       "$\\displaystyle \\left[\\begin{matrix}- \\frac{k_{b}}{N} & \\mu_{n} & \\mu_{m}\\\\\\frac{k_{b}}{N} & - k_{e} - \\mu_{n} & 0\\\\0 & k_{e} & - \\mu_{m}\\end{matrix}\\right]$"
      ],
      "text/plain": [
       "Matrix([\n",
       "[-k_b/N,        mu_n,  mu_m],\n",
       "[ k_b/N, -k_e - mu_n,     0],\n",
       "[     0,         k_e, -mu_m]])"
      ]
     },
     "execution_count": 6,
     "metadata": {},
     "output_type": "execute_result"
    }
   ],
   "source": [
    "K"
   ]
  },
  {
   "cell_type": "code",
   "execution_count": 7,
   "metadata": {},
   "outputs": [
    {
     "data": {
      "text/latex": [
       "$\\displaystyle \\left[\\begin{matrix}\\mu_{p} & 0 & 0\\\\0 & \\mu_{p} & 0\\\\0 & 0 & \\mu_{p}\\end{matrix}\\right]$"
      ],
      "text/plain": [
       "Matrix([\n",
       "[mu_p,    0,    0],\n",
       "[   0, mu_p,    0],\n",
       "[   0,    0, mu_p]])"
      ]
     },
     "execution_count": 7,
     "metadata": {},
     "output_type": "execute_result"
    }
   ],
   "source": [
    "G"
   ]
  },
  {
   "cell_type": "code",
   "execution_count": 8,
   "metadata": {},
   "outputs": [
    {
     "data": {
      "text/latex": [
       "$\\displaystyle \\left[\\begin{matrix}0 & 0 & 0\\\\0 & 0 & 0\\\\0 & 0 & k_{p}\\end{matrix}\\right]$"
      ],
      "text/plain": [
       "Matrix([\n",
       "[0, 0,   0],\n",
       "[0, 0,   0],\n",
       "[0, 0, k_p]])"
      ]
     },
     "execution_count": 8,
     "metadata": {},
     "output_type": "execute_result"
    }
   ],
   "source": [
    "R"
   ]
  },
  {
   "cell_type": "code",
   "execution_count": null,
   "metadata": {},
   "outputs": [],
   "source": []
  }
 ],
 "metadata": {
  "kernelspec": {
   "display_name": "Python 3",
   "language": "python",
   "name": "python3"
  },
  "language_info": {
   "codemirror_mode": {
    "name": "ipython",
    "version": 3
   },
   "file_extension": ".py",
   "mimetype": "text/x-python",
   "name": "python",
   "nbconvert_exporter": "python",
   "pygments_lexer": "ipython3",
   "version": "3.6.9"
  }
 },
 "nbformat": 4,
 "nbformat_minor": 4
}
